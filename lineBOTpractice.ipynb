{
  "nbformat": 4,
  "nbformat_minor": 0,
  "metadata": {
    "colab": {
      "provenance": []
    },
    "kernelspec": {
      "name": "python3",
      "display_name": "Python 3"
    },
    "language_info": {
      "name": "python"
    }
  },
  "cells": [
    {
      "cell_type": "code",
      "metadata": {
        "colab": {
          "base_uri": "https://localhost:8080/"
        },
        "id": "zuvMUk_ISh2F",
        "outputId": "4763cbaf-cafe-46c1-87c7-5307bab5f4bf"
      },
      "source": [
        "pip install flask"
      ],
      "execution_count": null,
      "outputs": [
        {
          "output_type": "stream",
          "text": [
            "Requirement already satisfied: flask in /usr/local/lib/python3.7/dist-packages (1.1.4)\n",
            "Requirement already satisfied: itsdangerous<2.0,>=0.24 in /usr/local/lib/python3.7/dist-packages (from flask) (1.1.0)\n",
            "Requirement already satisfied: Jinja2<3.0,>=2.10.1 in /usr/local/lib/python3.7/dist-packages (from flask) (2.11.3)\n",
            "Requirement already satisfied: Werkzeug<2.0,>=0.15 in /usr/local/lib/python3.7/dist-packages (from flask) (1.0.1)\n",
            "Requirement already satisfied: click<8.0,>=5.1 in /usr/local/lib/python3.7/dist-packages (from flask) (7.1.2)\n",
            "Requirement already satisfied: MarkupSafe>=0.23 in /usr/local/lib/python3.7/dist-packages (from Jinja2<3.0,>=2.10.1->flask) (2.0.1)\n"
          ],
          "name": "stdout"
        }
      ]
    },
    {
      "cell_type": "code",
      "metadata": {
        "colab": {
          "base_uri": "https://localhost:8080/"
        },
        "id": "U1vVZanah8A9",
        "outputId": "86c2cd4b-8e80-47a7-ee6e-d300d3063722"
      },
      "source": [
        "pip install line-bot-sdk\n"
      ],
      "execution_count": null,
      "outputs": [
        {
          "output_type": "stream",
          "text": [
            "Collecting line-bot-sdk\n",
            "\u001b[?25l  Downloading https://files.pythonhosted.org/packages/c7/84/eadf865e5cbb53165c7ef564b53b90b4de8b24673638b88dee9847f8cbfc/line_bot_sdk-1.19.0-py2.py3-none-any.whl (68kB)\n",
            "\r\u001b[K     |████▉                           | 10kB 16.3MB/s eta 0:00:01\r\u001b[K     |█████████▋                      | 20kB 6.7MB/s eta 0:00:01\r\u001b[K     |██████████████▍                 | 30kB 6.5MB/s eta 0:00:01\r\u001b[K     |███████████████████▏            | 40kB 6.1MB/s eta 0:00:01\r\u001b[K     |████████████████████████        | 51kB 4.9MB/s eta 0:00:01\r\u001b[K     |████████████████████████████▊   | 61kB 5.0MB/s eta 0:00:01\r\u001b[K     |████████████████████████████████| 71kB 3.5MB/s \n",
            "\u001b[?25hRequirement already satisfied: future in /usr/local/lib/python3.7/dist-packages (from line-bot-sdk) (0.16.0)\n",
            "Requirement already satisfied: requests>=2.0 in /usr/local/lib/python3.7/dist-packages (from line-bot-sdk) (2.23.0)\n",
            "Requirement already satisfied: certifi>=2017.4.17 in /usr/local/lib/python3.7/dist-packages (from requests>=2.0->line-bot-sdk) (2021.5.30)\n",
            "Requirement already satisfied: urllib3!=1.25.0,!=1.25.1,<1.26,>=1.21.1 in /usr/local/lib/python3.7/dist-packages (from requests>=2.0->line-bot-sdk) (1.24.3)\n",
            "Requirement already satisfied: idna<3,>=2.5 in /usr/local/lib/python3.7/dist-packages (from requests>=2.0->line-bot-sdk) (2.10)\n",
            "Requirement already satisfied: chardet<4,>=3.0.2 in /usr/local/lib/python3.7/dist-packages (from requests>=2.0->line-bot-sdk) (3.0.4)\n",
            "Installing collected packages: line-bot-sdk\n",
            "Successfully installed line-bot-sdk-1.19.0\n"
          ],
          "name": "stdout"
        }
      ]
    },
    {
      "cell_type": "code",
      "metadata": {
        "colab": {
          "base_uri": "https://localhost:8080/"
        },
        "id": "c4M7SjRyjaqe",
        "outputId": "eff5abe9-6f7b-4ae8-8665-b7b23ca9853f"
      },
      "source": [
        "from flask import Flask,request ,abort\n",
        "from linebot import LineBotApi,WebhookHandler\n",
        "from linebot.exceptions import InvalidSignatureError\n",
        "from linebot.models import MessageEvent,TextMessage,TextSendMessage\n",
        "\n",
        "app = Flask(__name__)\n",
        "\n",
        "handler = WebhookHandler('')\n",
        "line_bot_api = LineBotApi('')\n",
        "\n",
        "#接收Line訊息\n",
        "@app.route(\"/callback\",methods =['POST'])\n",
        "def callback():\n",
        "  signature = request.headers['X-Line-Signature']\n",
        "  body= request.get_data(as_text=True)\n",
        "  try:\n",
        "    handler.handle(body, signature)\n",
        "  except InvalidSignatureError:\n",
        "    abort(400)\n",
        "  return \"OK\"\n",
        "\n",
        "\n",
        "#ECHO回應\n",
        "@handler.add(MessageEvent,message=TextMessage)\n",
        "def echo_message(event):\n",
        "  if isinstance(event.message,TextMessage):\n",
        "    num = event.message.text\n",
        "\n",
        "    yourstock = twstock.Stock(num)\n",
        "    stockinfo = twstock.codes[num]\n",
        "    stockname = stockinfo.name\n",
        "\n",
        "\n",
        "\n",
        "    av5 = yourstock.moving_average(yourstock.price,5)\n",
        "    av10 = yourstock.moving_average(yourstock.price,10)\n",
        "    av20 = yourstock.moving_average(yourstock.price,20)\n",
        "\n",
        "    line5trend = \"\"\n",
        "    line10trend = \"\"\n",
        "    line20trend = \"\"\n",
        "  \n",
        "    ReplyText = (\"股票名稱：\" , stockname,\"收盤價：\", yourstock.price[-1],\"/五日均價：\" ,av5[-1],\"/十日均價：\",av10[-1],\"/二十日均價：\",av20[-1])\n",
        "\n",
        "\n",
        "    line_bot_api.reply_message(event.reply_token,TextSendMessage(text=ReplyText))\n",
        "  \n",
        "  \n",
        "  \n",
        "  \n",
        "  \n",
        "  \n",
        "  \n",
        "  \n",
        "  #line_bot_api.reply_message(event.reply_token,TextSendMessage(text=event.message.text))\n",
        "\n",
        "if __name__ == \"__main__\":\n",
        "    app.run()"
      ],
      "execution_count": null,
      "outputs": [
        {
          "output_type": "stream",
          "text": [
            " * Serving Flask app \"__main__\" (lazy loading)\n",
            " * Environment: production\n",
            "\u001b[31m   WARNING: This is a development server. Do not use it in a production deployment.\u001b[0m\n",
            "\u001b[2m   Use a production WSGI server instead.\u001b[0m\n",
            " * Debug mode: off\n"
          ],
          "name": "stdout"
        },
        {
          "output_type": "stream",
          "text": [
            " * Running on http://127.0.0.1:5000/ (Press CTRL+C to quit)\n"
          ],
          "name": "stderr"
        }
      ]
    },
    {
      "cell_type": "code",
      "metadata": {
        "id": "dB30yCpsau0q"
      },
      "source": [],
      "execution_count": null,
      "outputs": []
    }
  ]
}